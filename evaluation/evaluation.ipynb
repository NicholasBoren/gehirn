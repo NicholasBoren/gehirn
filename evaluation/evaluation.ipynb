{
 "cells": [
  {
   "cell_type": "code",
   "execution_count": 32,
   "metadata": {},
   "outputs": [],
   "source": [
    "# issue fixed with pytube: https://github.com/pytube/pytube/issues/1408\n",
    "import pytube\n",
    "from pytube.exceptions import PytubeError\n",
    "import http.client\n",
    "from googleapiclient.discovery import build\n",
    "import pandas as pd\n",
    "import sys\n",
    "from constants import YOUTUBE_API_KEY\n",
    "from data_mining import data_mining_source\n",
    "import os\n",
    "from random import sample\n",
    "import moviepy"
   ]
  },
  {
   "cell_type": "code",
   "execution_count": 11,
   "metadata": {},
   "outputs": [],
   "source": [
    "sys.path.insert(0, '/Users/huongngo/Desktop/PERSONAL PROJECTS/gehirn')\n",
    "sys.path.insert(0, '/Users/huongngo/Desktop/PERSONAL PROJECTS/gehirn/data_mining')"
   ]
  },
  {
   "cell_type": "code",
   "execution_count": 18,
   "metadata": {},
   "outputs": [
    {
     "data": {
      "text/html": [
       "<div>\n",
       "<style scoped>\n",
       "    .dataframe tbody tr th:only-of-type {\n",
       "        vertical-align: middle;\n",
       "    }\n",
       "\n",
       "    .dataframe tbody tr th {\n",
       "        vertical-align: top;\n",
       "    }\n",
       "\n",
       "    .dataframe thead th {\n",
       "        text-align: right;\n",
       "    }\n",
       "</style>\n",
       "<table border=\"1\" class=\"dataframe\">\n",
       "  <thead>\n",
       "    <tr style=\"text-align: right;\">\n",
       "      <th></th>\n",
       "      <th>name</th>\n",
       "      <th>link</th>\n",
       "      <th>genre</th>\n",
       "    </tr>\n",
       "  </thead>\n",
       "  <tbody>\n",
       "    <tr>\n",
       "      <th>0</th>\n",
       "      <td>Pragya Gaur</td>\n",
       "      <td>https://www.youtube.com/channel/UCD9qgumkKNOz9...</td>\n",
       "      <td>Indian</td>\n",
       "    </tr>\n",
       "    <tr>\n",
       "      <th>1</th>\n",
       "      <td>The Theorist</td>\n",
       "      <td>https://www.youtube.com/c/TheTheorist</td>\n",
       "      <td>Hip-Hop</td>\n",
       "    </tr>\n",
       "    <tr>\n",
       "      <th>2</th>\n",
       "      <td>zzz - Anime on Piano</td>\n",
       "      <td>https://www.youtube.com/channel/UCXbCo1dYKNceo...</td>\n",
       "      <td>Anime</td>\n",
       "    </tr>\n",
       "    <tr>\n",
       "      <th>3</th>\n",
       "      <td>AnimeMidi</td>\n",
       "      <td>https://www.youtube.com/channel/UC9nPjOh-1V4pn...</td>\n",
       "      <td>K-pop</td>\n",
       "    </tr>\n",
       "    <tr>\n",
       "      <th>4</th>\n",
       "      <td>Marioverehrer2</td>\n",
       "      <td>https://www.youtube.com/c/Marioverehrer2</td>\n",
       "      <td>Video Game</td>\n",
       "    </tr>\n",
       "    <tr>\n",
       "      <th>5</th>\n",
       "      <td>Cosmic PIANO</td>\n",
       "      <td>https://www.youtube.com/c/cosmicpiano</td>\n",
       "      <td>EDM-Anime-Movie</td>\n",
       "    </tr>\n",
       "  </tbody>\n",
       "</table>\n",
       "</div>"
      ],
      "text/plain": [
       "                   name                                               link  \\\n",
       "0           Pragya Gaur  https://www.youtube.com/channel/UCD9qgumkKNOz9...   \n",
       "1          The Theorist              https://www.youtube.com/c/TheTheorist   \n",
       "2  zzz - Anime on Piano  https://www.youtube.com/channel/UCXbCo1dYKNceo...   \n",
       "3             AnimeMidi  https://www.youtube.com/channel/UC9nPjOh-1V4pn...   \n",
       "4        Marioverehrer2           https://www.youtube.com/c/Marioverehrer2   \n",
       "5          Cosmic PIANO              https://www.youtube.com/c/cosmicpiano   \n",
       "\n",
       "             genre  \n",
       "0           Indian  \n",
       "1          Hip-Hop  \n",
       "2            Anime  \n",
       "3            K-pop  \n",
       "4       Video Game  \n",
       "5  EDM-Anime-Movie  "
      ]
     },
     "execution_count": 18,
     "metadata": {},
     "output_type": "execute_result"
    }
   ],
   "source": [
    "eval_sources = pd.read_csv('/Users/huongngo/Desktop/PERSONAL PROJECTS/gehirn/evaluation/eval_sources.csv')\n",
    "eval_sources"
   ]
  },
  {
   "cell_type": "code",
   "execution_count": 19,
   "metadata": {},
   "outputs": [
    {
     "data": {
      "text/plain": [
       "['https://www.youtube.com/channel/UCD9qgumkKNOz9KYVLOSVvQw',\n",
       " 'https://www.youtube.com/c/TheTheorist',\n",
       " 'https://www.youtube.com/channel/UCXbCo1dYKNceoxUC7rKMjZw',\n",
       " 'https://www.youtube.com/channel/UC9nPjOh-1V4pnRlZYpJeoBg',\n",
       " 'https://www.youtube.com/c/Marioverehrer2',\n",
       " 'https://www.youtube.com/c/cosmicpiano']"
      ]
     },
     "execution_count": 19,
     "metadata": {},
     "output_type": "execute_result"
    }
   ],
   "source": [
    "url_list = eval_sources['link'].values.tolist()\n",
    "url_list"
   ]
  },
  {
   "cell_type": "code",
   "execution_count": 20,
   "metadata": {},
   "outputs": [
    {
     "data": {
      "text/html": [
       "<div>\n",
       "<style scoped>\n",
       "    .dataframe tbody tr th:only-of-type {\n",
       "        vertical-align: middle;\n",
       "    }\n",
       "\n",
       "    .dataframe tbody tr th {\n",
       "        vertical-align: top;\n",
       "    }\n",
       "\n",
       "    .dataframe thead th {\n",
       "        text-align: right;\n",
       "    }\n",
       "</style>\n",
       "<table border=\"1\" class=\"dataframe\">\n",
       "  <thead>\n",
       "    <tr style=\"text-align: right;\">\n",
       "      <th></th>\n",
       "      <th>ChannelID</th>\n",
       "      <th>ChannelName</th>\n",
       "      <th>AllVideos</th>\n",
       "    </tr>\n",
       "  </thead>\n",
       "  <tbody>\n",
       "    <tr>\n",
       "      <th>0</th>\n",
       "      <td>UCD9qgumkKNOz9KYVLOSVvQw</td>\n",
       "      <td>Pragya Gaur</td>\n",
       "      <td>['https://www.youtube.com/watch?v=6x2oxlzcr4I'...</td>\n",
       "    </tr>\n",
       "    <tr>\n",
       "      <th>1</th>\n",
       "      <td>UCWBKJ1RNeKTPII34pc6UyUg</td>\n",
       "      <td>The Theorist</td>\n",
       "      <td>['https://www.youtube.com/watch?v=Bb1x0L59WU0'...</td>\n",
       "    </tr>\n",
       "    <tr>\n",
       "      <th>2</th>\n",
       "      <td>UCXbCo1dYKNceoxUC7rKMjZw</td>\n",
       "      <td>zzz - Anime on Piano</td>\n",
       "      <td>['https://www.youtube.com/watch?v=F1Gg6pTnD18'...</td>\n",
       "    </tr>\n",
       "    <tr>\n",
       "      <th>3</th>\n",
       "      <td>UC9nPjOh-1V4pnRlZYpJeoBg</td>\n",
       "      <td>AnimeMidi</td>\n",
       "      <td>['https://www.youtube.com/watch?v=D-H28Smg4fI'...</td>\n",
       "    </tr>\n",
       "    <tr>\n",
       "      <th>4</th>\n",
       "      <td>UCrOaijB2OTbuH0Sc7Ifee1A</td>\n",
       "      <td>Marioverehrer</td>\n",
       "      <td>['https://www.youtube.com/watch?v=mOxaHC1S6mA'...</td>\n",
       "    </tr>\n",
       "    <tr>\n",
       "      <th>5</th>\n",
       "      <td>UCpHGeKwKQVHaH0VPVlyhfww</td>\n",
       "      <td>Cosmic PIANO ♪</td>\n",
       "      <td>['https://www.youtube.com/watch?v=wpY7URlNjoo'...</td>\n",
       "    </tr>\n",
       "  </tbody>\n",
       "</table>\n",
       "</div>"
      ],
      "text/plain": [
       "                  ChannelID           ChannelName  \\\n",
       "0  UCD9qgumkKNOz9KYVLOSVvQw           Pragya Gaur   \n",
       "1  UCWBKJ1RNeKTPII34pc6UyUg          The Theorist   \n",
       "2  UCXbCo1dYKNceoxUC7rKMjZw  zzz - Anime on Piano   \n",
       "3  UC9nPjOh-1V4pnRlZYpJeoBg             AnimeMidi   \n",
       "4  UCrOaijB2OTbuH0Sc7Ifee1A         Marioverehrer   \n",
       "5  UCpHGeKwKQVHaH0VPVlyhfww        Cosmic PIANO ♪   \n",
       "\n",
       "                                           AllVideos  \n",
       "0  ['https://www.youtube.com/watch?v=6x2oxlzcr4I'...  \n",
       "1  ['https://www.youtube.com/watch?v=Bb1x0L59WU0'...  \n",
       "2  ['https://www.youtube.com/watch?v=F1Gg6pTnD18'...  \n",
       "3  ['https://www.youtube.com/watch?v=D-H28Smg4fI'...  \n",
       "4  ['https://www.youtube.com/watch?v=mOxaHC1S6mA'...  \n",
       "5  ['https://www.youtube.com/watch?v=wpY7URlNjoo'...  "
      ]
     },
     "execution_count": 20,
     "metadata": {},
     "output_type": "execute_result"
    }
   ],
   "source": [
    "channel_table = data_mining_source.channel_metadata(url_list)\n",
    "channel_table"
   ]
  },
  {
   "cell_type": "code",
   "execution_count": 29,
   "metadata": {},
   "outputs": [
    {
     "data": {
      "text/plain": [
       "'dataset/indian/video/hello'"
      ]
     },
     "execution_count": 29,
     "metadata": {},
     "output_type": "execute_result"
    }
   ],
   "source": [
    "os.path.join('dataset', 'indian', 'video', 'hello')"
   ]
  },
  {
   "cell_type": "code",
   "execution_count": 33,
   "metadata": {},
   "outputs": [],
   "source": [
    "def download(genre, video_urls):\n",
    "    try:\n",
    "        for video_url in video_urls:\n",
    "            video = pytube.YouTube(video_url)\n",
    "            output_path = os.path.join('dataset', genre, video.title)\n",
    "            video_name = video.title.replace('/', '') + '.mp4'\n",
    "            audio_name = video.title.replace('/', '') + '.mp3'\n",
    "\n",
    "            if not os.path.isdir(output_path) and not video.length > 360:\n",
    "                os.makedirs(output_path)\n",
    "\n",
    "            if not os.path.isfile(os.path.join(output_path, audio_name)) and not video.length > 360:\n",
    "                video.streams.filter(progressive=True, file_extension='mp4').order_by('resolution').asc() \\\n",
    "                    .first().download(filename=video_name, output_path=output_path)\n",
    "\n",
    "                video_editor = moviepy.editor.VideoFileClip(os.path.join(output_path, video_name))\n",
    "                video_editor.audio.write_audiofile(os.path.join(output_path, audio_name), logger=None)\n",
    "                os.remove(os.path.join(output_path, video_name))\n",
    "        print()\n",
    "    except (PytubeError, http.client.IncompleteRead) as e:\n",
    "        print('Error: ', e)\n",
    "        return None"
   ]
  },
  {
   "attachments": {},
   "cell_type": "markdown",
   "metadata": {},
   "source": [
    "## Indian"
   ]
  },
  {
   "cell_type": "code",
   "execution_count": 46,
   "metadata": {},
   "outputs": [
    {
     "data": {
      "text/plain": [
       "['https://www.youtube.com/watch?v=y0rWIwax3G0',\n",
       " 'https://www.youtube.com/watch?v=_d8_-Pe346o',\n",
       " 'https://www.youtube.com/watch?v=80KdviqQFlQ',\n",
       " 'https://www.youtube.com/watch?v=ZBXNgN9QKYw',\n",
       " 'https://www.youtube.com/watch?v=K7B9XSTzAoQ',\n",
       " 'https://www.youtube.com/watch?v=PHRFRkbLeuM',\n",
       " 'https://www.youtube.com/watch?v=PK0bWiiWi9g',\n",
       " 'https://www.youtube.com/watch?v=X6t9wGp8Lo8',\n",
       " 'https://www.youtube.com/watch?v=-QUyc5fH7Ac',\n",
       " 'https://www.youtube.com/watch?v=TOB4qs4LlE8',\n",
       " 'https://www.youtube.com/watch?v=2f2R11mOzbs',\n",
       " 'https://www.youtube.com/watch?v=DPSwDlxMIzo',\n",
       " 'https://www.youtube.com/watch?v=DC-rI52okRo',\n",
       " 'https://www.youtube.com/watch?v=JiBOWPXMlYw',\n",
       " 'https://www.youtube.com/watch?v=OTLn1VeiY8A',\n",
       " 'https://www.youtube.com/watch?v=EAqQJaS-CVs',\n",
       " 'https://www.youtube.com/watch?v=DIPwXCwi2wI',\n",
       " 'https://www.youtube.com/watch?v=4CAVRCPVyI0',\n",
       " 'https://www.youtube.com/watch?v=H-iT3H5CmfU',\n",
       " 'https://www.youtube.com/watch?v=ajcm2-9yvS8',\n",
       " 'https://www.youtube.com/watch?v=dgSLj9KNouk',\n",
       " 'https://www.youtube.com/watch?v=GqP6dzA3D2o',\n",
       " 'https://www.youtube.com/watch?v=IsDSCGnSQGA',\n",
       " 'https://www.youtube.com/watch?v=Hzw05svuizc',\n",
       " 'https://www.youtube.com/watch?v=05useMafKco',\n",
       " 'https://www.youtube.com/watch?v=rD33Ery2680',\n",
       " 'https://www.youtube.com/watch?v=zNyfgurSreo',\n",
       " 'https://www.youtube.com/watch?v=eVW_OWgp6O4',\n",
       " 'https://www.youtube.com/watch?v=fqmK4himSd4',\n",
       " 'https://www.youtube.com/watch?v=akOqSYvFQ1Y']"
      ]
     },
     "execution_count": 46,
     "metadata": {},
     "output_type": "execute_result"
    }
   ],
   "source": [
    "url_list_i = list(channel_table['AllVideos'][0])\n",
    "url_list_is = sample(url_list_i, 30)\n",
    "url_list_is"
   ]
  },
  {
   "cell_type": "code",
   "execution_count": 47,
   "metadata": {},
   "outputs": [
    {
     "name": "stdout",
     "output_type": "stream",
     "text": [
      "Error:  Exception while accessing title of https://youtube.com/watch?v=2f2R11mOzbs. Please file a bug report at https://github.com/pytube/pytube\n"
     ]
    }
   ],
   "source": [
    "# deleted one download - not a song with ground truth\n",
    "download('indian', url_list_is)"
   ]
  },
  {
   "attachments": {},
   "cell_type": "markdown",
   "metadata": {},
   "source": [
    "## Hip-Hop"
   ]
  },
  {
   "cell_type": "code",
   "execution_count": 48,
   "metadata": {},
   "outputs": [
    {
     "data": {
      "text/plain": [
       "['https://www.youtube.com/watch?v=oB8BAUPUzL8',\n",
       " 'https://www.youtube.com/watch?v=UtUTLHf08UQ',\n",
       " 'https://www.youtube.com/watch?v=bCjNlVW9TEc',\n",
       " 'https://www.youtube.com/watch?v=Grb8LpMwops',\n",
       " 'https://www.youtube.com/watch?v=kYEWF8Z9BHY',\n",
       " 'https://www.youtube.com/watch?v=ZTsNrrduEgg',\n",
       " 'https://www.youtube.com/watch?v=6kGvTj1-eQk',\n",
       " 'https://www.youtube.com/watch?v=JwLdrKRWGIg',\n",
       " 'https://www.youtube.com/watch?v=1YoFtCWwnSU',\n",
       " 'https://www.youtube.com/watch?v=k6BM-geg6nY',\n",
       " 'https://www.youtube.com/watch?v=_SztZQUJYf4',\n",
       " 'https://www.youtube.com/watch?v=85t3yl2P86M',\n",
       " 'https://www.youtube.com/watch?v=RMPVvpawFaE',\n",
       " 'https://www.youtube.com/watch?v=l8IpaKz_big',\n",
       " 'https://www.youtube.com/watch?v=T5Batq7aikw',\n",
       " 'https://www.youtube.com/watch?v=HTwmo7EPIQ4',\n",
       " 'https://www.youtube.com/watch?v=SrMvWPomHpM',\n",
       " 'https://www.youtube.com/watch?v=zV0Vw18feRw',\n",
       " 'https://www.youtube.com/watch?v=vX_erEW5J88',\n",
       " 'https://www.youtube.com/watch?v=51BSrt9SVfs',\n",
       " 'https://www.youtube.com/watch?v=rpUXUkJYd7g',\n",
       " 'https://www.youtube.com/watch?v=IDAAJUrkMhs',\n",
       " 'https://www.youtube.com/watch?v=K8V8z4QqydM',\n",
       " 'https://www.youtube.com/watch?v=xK7pe4iUOpc',\n",
       " 'https://www.youtube.com/watch?v=9ojkihjnMto',\n",
       " 'https://www.youtube.com/watch?v=pgNY0A0foZg',\n",
       " 'https://www.youtube.com/watch?v=20mW0_kZPys',\n",
       " 'https://www.youtube.com/watch?v=33EcG_Wo_r0',\n",
       " 'https://www.youtube.com/watch?v=0HjxvVrs7Eg',\n",
       " 'https://www.youtube.com/watch?v=ZfmXkKHx-l0']"
      ]
     },
     "execution_count": 48,
     "metadata": {},
     "output_type": "execute_result"
    }
   ],
   "source": [
    "url_list_h = list(channel_table['AllVideos'][1])\n",
    "url_list_hs = sample(url_list_h, 30)\n",
    "url_list_hs"
   ]
  },
  {
   "cell_type": "code",
   "execution_count": 50,
   "metadata": {},
   "outputs": [
    {
     "name": "stdout",
     "output_type": "stream",
     "text": [
      "Error:  Exception while accessing title of https://youtube.com/watch?v=6kGvTj1-eQk. Please file a bug report at https://github.com/pytube/pytube\n"
     ]
    }
   ],
   "source": [
    "download('hip-hop', url_list_hs)"
   ]
  },
  {
   "attachments": {},
   "cell_type": "markdown",
   "metadata": {},
   "source": [
    "## Electronic"
   ]
  },
  {
   "cell_type": "code",
   "execution_count": 51,
   "metadata": {},
   "outputs": [
    {
     "data": {
      "text/plain": [
       "['https://www.youtube.com/watch?v=J1dnVrPizWo', 'https://www.youtube.com/watch?v=xI4pAeU2xgk', 'https://www.youtube.com/watch?v=7nUXs5zt0Fw', 'https://www.youtube.com/watch?v=Kv5id4jI9qM', 'https://www.youtube.com/watch?v=RfKYzjt4b2c', 'https://www.youtube.com/watch?v=gs9UC1qtHu0', 'https://www.youtube.com/watch?v=QszzqPeyzRg', 'https://www.youtube.com/watch?v=xTHgqCWtA6g', 'https://www.youtube.com/watch?v=1cURC2RyHC0', 'https://www.youtube.com/watch?v=K6hpXweSKO8', 'https://www.youtube.com/watch?v=KEjPtSmWo1s', 'https://www.youtube.com/watch?v=XcTsIKk5TPQ', 'https://www.youtube.com/watch?v=LLL6V7pHW7A', 'https://www.youtube.com/watch?v=WeMTdqkb3qs', 'https://www.youtube.com/watch?v=8TDkGeZs9TE', 'https://www.youtube.com/watch?v=aXF9MmfEwqM', 'https://www.youtube.com/watch?v=yg_V6LzDdSQ', 'https://www.youtube.com/watch?v=kCh9s-y-gq4', 'https://www.youtube.com/watch?v=YTSPExNllj4', 'https://www.youtube.com/watch?v=Jvs3WMFX5aQ', 'https://www.youtube.com/watch?v=bMDMlX0DugY', 'https://www.youtube.com/watch?v=HQozceVazhI', 'https://www.youtube.com/watch?v=p8cSmJz8BXQ', 'https://www.youtube.com/watch?v=n6yMZJxZb5M', 'https://www.youtube.com/watch?v=3CrVc7zNJ-c', 'https://www.youtube.com/watch?v=Kbxh9BoWRb8', 'https://www.youtube.com/watch?v=cTn2FkhFuJ4', 'https://www.youtube.com/watch?v=as_PoRk6cwA', 'https://www.youtube.com/watch?v=PO_K82gBCl0', 'https://www.youtube.com/watch?v=wwTDJVGEbFE', 'https://www.youtube.com/watch?v=xauo_Iy6zEw', 'https://www.youtube.com/watch?v=ATmkMmYHQB0', 'https://www.youtube.com/watch?v=v572eUdPz1c', 'https://www.youtube.com/watch?v=6ab_ptiFMck', 'https://www.youtube.com/watch?v=ZJwIrL2zXq0', 'https://www.youtube.com/watch?v=SXa5749dWoY', 'https://www.youtube.com/watch?v=9O9-hSEvaU8', 'https://www.youtube.com/watch?v=E8h1ow4S02A', 'https://www.youtube.com/watch?v=VWttuK5cDxM', 'https://www.youtube.com/watch?v=17RoHc4BsQ0', 'https://www.youtube.com/watch?v=ftcqtyflluU', 'https://www.youtube.com/watch?v=wjjpoW_NjOQ', 'https://www.youtube.com/watch?v=YO0Gbqko7zY', 'https://www.youtube.com/watch?v=Fe59rKjBrv0', 'https://www.youtube.com/watch?v=OyI3Jg5fWlE', 'https://www.youtube.com/watch?v=mWloCLkofH8', 'https://www.youtube.com/watch?v=_CNRSVbEM_Q', 'https://www.youtube.com/watch?v=R9606-P_TPM', 'https://www.youtube.com/watch?v=Lj84tQwSsf8', 'https://www.youtube.com/watch?v=1eeROH_83Ak', 'https://www.youtube.com/watch?v=uo6sNbFyjgo', 'https://www.youtube.com/watch?v=cnjz1t_OpXw', 'https://www.youtube.com/watch?v=nTRBWh8Vp_Y', 'https://www.youtube.com/watch?v=Qx-WdrQqlvE', 'https://www.youtube.com/watch?v=FoyJCHOrDZE', 'https://www.youtube.com/watch?v=dZ-yGi0H_ZQ', 'https://www.youtube.com/watch?v=iTEgNS0T9C8', 'https://www.youtube.com/watch?v=Sj8u56d_L-0']"
      ]
     },
     "execution_count": 51,
     "metadata": {},
     "output_type": "execute_result"
    }
   ],
   "source": [
    "p = pytube.Playlist('https://www.youtube.com/watch?v=J1dnVrPizWo&list=PLh5yQEh2F60v3bjv5M1PlD-DO9V1D7GkI')\n",
    "p.video_urls"
   ]
  },
  {
   "cell_type": "code",
   "execution_count": 53,
   "metadata": {},
   "outputs": [
    {
     "data": {
      "text/plain": [
       "['https://www.youtube.com/watch?v=KEjPtSmWo1s',\n",
       " 'https://www.youtube.com/watch?v=dZ-yGi0H_ZQ',\n",
       " 'https://www.youtube.com/watch?v=LLL6V7pHW7A',\n",
       " 'https://www.youtube.com/watch?v=PO_K82gBCl0',\n",
       " 'https://www.youtube.com/watch?v=ftcqtyflluU',\n",
       " 'https://www.youtube.com/watch?v=wwTDJVGEbFE',\n",
       " 'https://www.youtube.com/watch?v=XcTsIKk5TPQ',\n",
       " 'https://www.youtube.com/watch?v=n6yMZJxZb5M',\n",
       " 'https://www.youtube.com/watch?v=kCh9s-y-gq4',\n",
       " 'https://www.youtube.com/watch?v=Jvs3WMFX5aQ',\n",
       " 'https://www.youtube.com/watch?v=v572eUdPz1c',\n",
       " 'https://www.youtube.com/watch?v=_CNRSVbEM_Q',\n",
       " 'https://www.youtube.com/watch?v=ATmkMmYHQB0',\n",
       " 'https://www.youtube.com/watch?v=FoyJCHOrDZE',\n",
       " 'https://www.youtube.com/watch?v=HQozceVazhI',\n",
       " 'https://www.youtube.com/watch?v=as_PoRk6cwA',\n",
       " 'https://www.youtube.com/watch?v=ZJwIrL2zXq0',\n",
       " 'https://www.youtube.com/watch?v=QszzqPeyzRg',\n",
       " 'https://www.youtube.com/watch?v=Kv5id4jI9qM',\n",
       " 'https://www.youtube.com/watch?v=iTEgNS0T9C8',\n",
       " 'https://www.youtube.com/watch?v=1eeROH_83Ak',\n",
       " 'https://www.youtube.com/watch?v=9O9-hSEvaU8',\n",
       " 'https://www.youtube.com/watch?v=p8cSmJz8BXQ',\n",
       " 'https://www.youtube.com/watch?v=WeMTdqkb3qs',\n",
       " 'https://www.youtube.com/watch?v=VWttuK5cDxM',\n",
       " 'https://www.youtube.com/watch?v=8TDkGeZs9TE',\n",
       " 'https://www.youtube.com/watch?v=uo6sNbFyjgo',\n",
       " 'https://www.youtube.com/watch?v=J1dnVrPizWo',\n",
       " 'https://www.youtube.com/watch?v=mWloCLkofH8',\n",
       " 'https://www.youtube.com/watch?v=17RoHc4BsQ0']"
      ]
     },
     "execution_count": 53,
     "metadata": {},
     "output_type": "execute_result"
    }
   ],
   "source": [
    "url_list_e = list(p.video_urls)\n",
    "url_list_es = sample(url_list_e, 30)\n",
    "url_list_es"
   ]
  },
  {
   "cell_type": "code",
   "execution_count": 54,
   "metadata": {},
   "outputs": [
    {
     "name": "stdout",
     "output_type": "stream",
     "text": [
      "Completed\n"
     ]
    }
   ],
   "source": [
    "download('electronic', url_list_es)"
   ]
  },
  {
   "attachments": {},
   "cell_type": "markdown",
   "metadata": {},
   "source": [
    "## Movie"
   ]
  },
  {
   "cell_type": "code",
   "execution_count": 56,
   "metadata": {},
   "outputs": [
    {
     "data": {
      "text/plain": [
       "['https://www.youtube.com/watch?v=b-jcsjozkD0', 'https://www.youtube.com/watch?v=rYlQxF4ud4A', 'https://www.youtube.com/watch?v=Po2xOfz_Cpw', 'https://www.youtube.com/watch?v=EEY0FsLDxPU', 'https://www.youtube.com/watch?v=vDD8mCv9wvg', 'https://www.youtube.com/watch?v=YZGphK9Bl3Y', 'https://www.youtube.com/watch?v=RpZiE21Vu5I', 'https://www.youtube.com/watch?v=sNKc_xrROUI', 'https://www.youtube.com/watch?v=0W7r6Jz5L0I', 'https://www.youtube.com/watch?v=q-CaI6oJKF4', 'https://www.youtube.com/watch?v=xBu3xWP6VUM', 'https://www.youtube.com/watch?v=ZTkTMeXJgaA', 'https://www.youtube.com/watch?v=vjf8iOpEn18', 'https://www.youtube.com/watch?v=5B6SPPk_Ipo', 'https://www.youtube.com/watch?v=lAK0IHbasnM', 'https://www.youtube.com/watch?v=PNbFSAH2nJ4', 'https://www.youtube.com/watch?v=HQZbeC2sf7E', 'https://www.youtube.com/watch?v=E4J8Zj6zM-k', 'https://www.youtube.com/watch?v=IMfP8ubbJzk', 'https://www.youtube.com/watch?v=ikTAmoEMWcs', 'https://www.youtube.com/watch?v=5FveSzkCQQc', 'https://www.youtube.com/watch?v=R1WlIw9zTMU', 'https://www.youtube.com/watch?v=RrJDZ2xStt0', 'https://www.youtube.com/watch?v=5qcc067FCsg', 'https://www.youtube.com/watch?v=l_ZOyCzcsbE', 'https://www.youtube.com/watch?v=NyoZJFCkA2I', 'https://www.youtube.com/watch?v=D7L6QyStMl4', 'https://www.youtube.com/watch?v=QSHdFOBpEP4', 'https://www.youtube.com/watch?v=_riKsapJw9E', 'https://www.youtube.com/watch?v=JFqvZxCVnE8', 'https://www.youtube.com/watch?v=tkFq0OGN5eY', 'https://www.youtube.com/watch?v=gRQlb3emSIA', 'https://www.youtube.com/watch?v=0Pbz22SCpkw', 'https://www.youtube.com/watch?v=ajzxYkv0Wck', 'https://www.youtube.com/watch?v=2nQJAN0G73E', 'https://www.youtube.com/watch?v=VvdjHjBNFSM', 'https://www.youtube.com/watch?v=zanQHbqmWEE', 'https://www.youtube.com/watch?v=hVNEkZzp8qg', 'https://www.youtube.com/watch?v=gbzynZnbZJ4', 'https://www.youtube.com/watch?v=Jz-WcBjgmhY', 'https://www.youtube.com/watch?v=vCja-NiX59Q', 'https://www.youtube.com/watch?v=1Covpr48yDw', 'https://www.youtube.com/watch?v=GBdqm09XWbQ', 'https://www.youtube.com/watch?v=vQ1MKKLbhmo', 'https://www.youtube.com/watch?v=L3CVpMHztqs', 'https://www.youtube.com/watch?v=ESyg_KQEKfY', 'https://www.youtube.com/watch?v=lJgTL_GR4Tc', 'https://www.youtube.com/watch?v=yblZO-g8KSA', 'https://www.youtube.com/watch?v=MTG1Nt-un_0', 'https://www.youtube.com/watch?v=MW1lkasnIxg', 'https://www.youtube.com/watch?v=F9s2hkvgUBA', 'https://www.youtube.com/watch?v=vCvYgG9wYvM', 'https://www.youtube.com/watch?v=im2YO0YQSxA', 'https://www.youtube.com/watch?v=57SdNVHYdNk', 'https://www.youtube.com/watch?v=tyVWN2BQXdo', 'https://www.youtube.com/watch?v=G6ebgyM9Y1k']"
      ]
     },
     "execution_count": 56,
     "metadata": {},
     "output_type": "execute_result"
    }
   ],
   "source": [
    "p = pytube.Playlist('https://www.youtube.com/watch?v=b-jcsjozkD0&list=PLh5yQEh2F60uqmOl9oRWD6SyEarU2kqo2')\n",
    "p.video_urls"
   ]
  },
  {
   "cell_type": "code",
   "execution_count": 59,
   "metadata": {},
   "outputs": [
    {
     "data": {
      "text/plain": [
       "['https://www.youtube.com/watch?v=57SdNVHYdNk',\n",
       " 'https://www.youtube.com/watch?v=VvdjHjBNFSM',\n",
       " 'https://www.youtube.com/watch?v=lAK0IHbasnM',\n",
       " 'https://www.youtube.com/watch?v=b-jcsjozkD0',\n",
       " 'https://www.youtube.com/watch?v=vjf8iOpEn18',\n",
       " 'https://www.youtube.com/watch?v=PNbFSAH2nJ4',\n",
       " 'https://www.youtube.com/watch?v=0Pbz22SCpkw',\n",
       " 'https://www.youtube.com/watch?v=ESyg_KQEKfY',\n",
       " 'https://www.youtube.com/watch?v=MTG1Nt-un_0',\n",
       " 'https://www.youtube.com/watch?v=NyoZJFCkA2I',\n",
       " 'https://www.youtube.com/watch?v=hVNEkZzp8qg',\n",
       " 'https://www.youtube.com/watch?v=QSHdFOBpEP4',\n",
       " 'https://www.youtube.com/watch?v=tkFq0OGN5eY',\n",
       " 'https://www.youtube.com/watch?v=YZGphK9Bl3Y',\n",
       " 'https://www.youtube.com/watch?v=yblZO-g8KSA',\n",
       " 'https://www.youtube.com/watch?v=D7L6QyStMl4',\n",
       " 'https://www.youtube.com/watch?v=1Covpr48yDw',\n",
       " 'https://www.youtube.com/watch?v=ikTAmoEMWcs',\n",
       " 'https://www.youtube.com/watch?v=_riKsapJw9E',\n",
       " 'https://www.youtube.com/watch?v=IMfP8ubbJzk',\n",
       " 'https://www.youtube.com/watch?v=2nQJAN0G73E',\n",
       " 'https://www.youtube.com/watch?v=F9s2hkvgUBA',\n",
       " 'https://www.youtube.com/watch?v=q-CaI6oJKF4',\n",
       " 'https://www.youtube.com/watch?v=RpZiE21Vu5I',\n",
       " 'https://www.youtube.com/watch?v=ZTkTMeXJgaA',\n",
       " 'https://www.youtube.com/watch?v=MW1lkasnIxg',\n",
       " 'https://www.youtube.com/watch?v=tyVWN2BQXdo',\n",
       " 'https://www.youtube.com/watch?v=JFqvZxCVnE8',\n",
       " 'https://www.youtube.com/watch?v=R1WlIw9zTMU',\n",
       " 'https://www.youtube.com/watch?v=zanQHbqmWEE']"
      ]
     },
     "execution_count": 59,
     "metadata": {},
     "output_type": "execute_result"
    }
   ],
   "source": [
    "url_list_m = list(p.video_urls)\n",
    "url_list_ms = sample(url_list_m, 30)\n",
    "url_list_ms"
   ]
  },
  {
   "cell_type": "code",
   "execution_count": 60,
   "metadata": {},
   "outputs": [
    {
     "name": "stdout",
     "output_type": "stream",
     "text": [
      "Error:  Exception while accessing title of https://youtube.com/watch?v=ikTAmoEMWcs. Please file a bug report at https://github.com/pytube/pytube\n"
     ]
    }
   ],
   "source": [
    "download('movie', url_list_ms)"
   ]
  },
  {
   "cell_type": "code",
   "execution_count": null,
   "metadata": {},
   "outputs": [],
   "source": []
  }
 ],
 "metadata": {
  "kernelspec": {
   "display_name": "gehirn",
   "language": "python",
   "name": "python3"
  },
  "language_info": {
   "codemirror_mode": {
    "name": "ipython",
    "version": 3
   },
   "file_extension": ".py",
   "mimetype": "text/x-python",
   "name": "python",
   "nbconvert_exporter": "python",
   "pygments_lexer": "ipython3",
   "version": "3.11.3"
  },
  "orig_nbformat": 4
 },
 "nbformat": 4,
 "nbformat_minor": 2
}
