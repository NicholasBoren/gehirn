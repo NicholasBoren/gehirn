{
 "cells": [
  {
   "cell_type": "code",
   "execution_count": null,
   "metadata": {
    "id": "ZfNDn7_disI4"
   },
   "outputs": [],
   "source": [
    "!pip install basic-pitch\n",
    "import os"
   ]
  },
  {
   "cell_type": "code",
   "execution_count": 28,
   "metadata": {},
   "outputs": [],
   "source": [
    "dataset_folder = './nerv_dataset'"
   ]
  },
  {
   "cell_type": "code",
   "execution_count": 36,
   "metadata": {
    "id": "albWS-2hmw8U"
   },
   "outputs": [],
   "source": [
    "def transcribe_all_genre_folders(overwrite=False):\n",
    "    genre_list = os.listdir(dataset_folder)\n",
    "    for genre in genre_list:\n",
    "        if genre.startswith('.') or not os.path.isdir(f'{dataset_folder}/{genre}'):\n",
    "            continue\n",
    "        \n",
    "        transcribe_genre_folder(genre, overwrite)\n",
    "\n",
    "\n",
    "def transcribe_genre_folder(genre, overwrite=False):\n",
    "    '''\n",
    "    Takes in the name of a genre folder containing .mp3 files and transcribes all songs within\n",
    "    to .mid\n",
    "\n",
    "            Parameters:\n",
    "                    genre (str): the genre whose songs to transcribe\n",
    "                    overwrite (bool): specify whether transcribing should overwrite existing\n",
    "                                      .mid files with the same file name\n",
    "    '''\n",
    "    genre_path = f'{dataset_folder}/{genre}'\n",
    "\n",
    "    song_list = os.listdir(genre_path)\n",
    "\n",
    "    for song_name in song_list:\n",
    "        if song_name.startswith('.'):\n",
    "            continue\n",
    "\n",
    "        mp3_name = song_name + '.mp3'\n",
    "        midi_name = song_name + '.mid'\n",
    "        if not overwrite and os.path.isfile(f'{genre_path}/{song_name}/{midi_name}'):\n",
    "            continue\n",
    "\n",
    "        song_path = f'{genre_path}/{song_name}'\n",
    "        if not os.path.exists(song_path):\n",
    "            os.mkdir(song_path)\n",
    "\n",
    "        !basic-pitch {dataset_folder}/{genre}/{song_name} {dataset_folder}/{genre}/{song_name}/{mp3_name}"
   ]
  },
  {
   "cell_type": "code",
   "execution_count": null,
   "metadata": {},
   "outputs": [],
   "source": [
    "transcribe_all_genre_folders()"
   ]
  }
 ],
 "metadata": {
  "colab": {
   "provenance": []
  },
  "kernelspec": {
   "display_name": "Python 3 (ipykernel)",
   "language": "python",
   "name": "python3"
  },
  "language_info": {
   "codemirror_mode": {
    "name": "ipython",
    "version": 3
   },
   "file_extension": ".py",
   "mimetype": "text/x-python",
   "name": "python",
   "nbconvert_exporter": "python",
   "pygments_lexer": "ipython3",
   "version": "3.8.10"
  },
  "vscode": {
   "interpreter": {
    "hash": "560545c6389d0f9b7c26865b227b5f26f75d22d2d0485d5c82f9dbd5fbc46a44"
   }
  }
 },
 "nbformat": 4,
 "nbformat_minor": 1
}