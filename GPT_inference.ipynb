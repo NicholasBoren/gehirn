{
 "cells": [
  {
   "cell_type": "code",
   "execution_count": null,
   "metadata": {},
   "outputs": [],
   "source": [
    "!python3 -m pip install --upgrade openai"
   ]
  },
  {
   "cell_type": "code",
   "execution_count": 1,
   "metadata": {},
   "outputs": [],
   "source": [
    "import os\n",
    "import openai\n",
    "import constants\n",
    "openai.api_key = constants.GPT_API_KEY"
   ]
  },
  {
   "cell_type": "code",
   "execution_count": 2,
   "metadata": {},
   "outputs": [],
   "source": [
    "dataset_folder = './nerv_dataset'"
   ]
  },
  {
   "cell_type": "code",
   "execution_count": 11,
   "metadata": {},
   "outputs": [],
   "source": [
    "def get_responses(song_name, genre):\n",
    "    prompt_1 = f'The string on the line below is the YouTube video title of a piano cover of a(n) {genre} song.\\\n",
    "                 Given the string, write a rich musical description of the original song, not the cover.\\\n",
    "                 This description should be roughly 200 words.\\\n",
    "                 \\n{song_name}'\n",
    "    prompt_2 = f'Now, provide a list of aspects describing the music of the original song, using \\\",\\\" as the delimiter,\\\n",
    "                 and without spaces between aspects. Below are three examples:\\n\\\n",
    "                 low quality,sustained strings melody,soft female vocal,mellow piano melody,sad,soulful,ballad\\n\\\n",
    "                 sustained piano synth,lullaby,bright xylophone,mellow melody,bass guitar,dreamy,kids music,slow tempo,nostalgic,cello,no vocals,sleepy\\n\\\n",
    "                 rock,passionate male vocal,harmonizing male vocals,wide electric guitar melody,groovy bass,punchy kick,punchy snare,shimmering cymbals,energetic,addictive'\n",
    "\n",
    "    response_1 = openai.ChatCompletion.create(\n",
    "        model=\"gpt-3.5-turbo\",\n",
    "        messages=[\n",
    "                {\"role\": \"user\", \"content\": prompt_1}\n",
    "            ]\n",
    "    )\n",
    "    caption = response_1['choices'][0]['message']['content'].lstrip('\\n')\n",
    "\n",
    "    response_2 = openai.ChatCompletion.create(\n",
    "        model=\"gpt-3.5-turbo\",\n",
    "        messages=[\n",
    "                {\"role\": \"user\", \"content\": prompt_2}\n",
    "            ]\n",
    "    )\n",
    "    aspects = response_2['choices'][0]['message']['content'].lstrip('\\n')\n",
    "    \n",
    "    return (caption, aspects)"
   ]
  },
  {
   "cell_type": "code",
   "execution_count": 7,
   "metadata": {},
   "outputs": [],
   "source": [
    "def caption_all_genre_folders(overwrite=False):\n",
    "    genre_list = os.listdir(dataset_folder)\n",
    "    for genre in genre_list:\n",
    "        if genre.startswith('.') or not os.path.isdir(f'{dataset_folder}/{genre}'):\n",
    "            continue\n",
    "        \n",
    "        caption_genre_folder(genre, overwrite)\n",
    "\n",
    "\n",
    "def caption_genre_folder(genre, overwrite=False):\n",
    "    '''\n",
    "    Takes in the name of a genre folder containing .mp3 files and generates rich text captions\n",
    "    for each song in the genre folder in .txt format\n",
    "\n",
    "            Parameters:\n",
    "                    genre (str): the genre whose songs to caption\n",
    "                    overwrite (bool): specify whether captioning should overwrite existing \n",
    "                                      .txt files with the same file name\n",
    "    '''\n",
    "    genre_path = f'{dataset_folder}/{genre}'\n",
    "\n",
    "    song_list = os.listdir(genre_path)\n",
    "\n",
    "    for song_name in song_list:\n",
    "        if song_name.startswith('.'):\n",
    "            continue\n",
    "        caption_filename = song_name + '_caption.txt'\n",
    "        aspects_filename = song_name + '_aspects.txt'\n",
    "        if not overwrite and os.path.isfile(f'{genre_path}/{song_name}/{caption_filename}'):\n",
    "            continue\n",
    "\n",
    "        song_path = f'{genre_path}/{song_name}'\n",
    "        if not os.path.exists(song_path):\n",
    "            os.mkdir(song_path)\n",
    "\n",
    "        caption, aspects = get_responses(song_name, genre)\n",
    "        assert(caption != None and len(caption) != 0)\n",
    "        assert(aspects != None and len(aspects) != 0)\n",
    "\n",
    "        with open(f'{song_path}/{caption_filename}', 'w') as f:\n",
    "            f.write(caption)\n",
    "        with open(f'{song_path}/{aspects_filename}', 'w') as f:\n",
    "            f.write(aspects)"
   ]
  },
  {
   "cell_type": "code",
   "execution_count": 12,
   "metadata": {},
   "outputs": [],
   "source": [
    "caption_all_genre_folders()\n"
   ]
  }
 ],
 "metadata": {
  "kernelspec": {
   "display_name": "Python 3 (ipykernel)",
   "language": "python",
   "name": "python3"
  },
  "language_info": {
   "codemirror_mode": {
    "name": "ipython",
    "version": 3
   },
   "file_extension": ".py",
   "mimetype": "text/x-python",
   "name": "python",
   "nbconvert_exporter": "python",
   "pygments_lexer": "ipython3",
   "version": "3.8.10"
  }
 },
 "nbformat": 4,
 "nbformat_minor": 2
}