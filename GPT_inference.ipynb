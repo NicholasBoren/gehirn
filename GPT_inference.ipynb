{
 "cells": [
  {
   "cell_type": "code",
   "execution_count": 1,
   "metadata": {},
   "outputs": [
    {
     "name": "stdout",
     "output_type": "stream",
     "text": [
      "Requirement already satisfied: openai in /opt/homebrew/lib/python3.10/site-packages (0.27.1)\n",
      "Collecting openai\n",
      "  Downloading openai-0.27.4-py3-none-any.whl (70 kB)\n",
      "\u001b[2K     \u001b[90m━━━━━━━━━━━━━━━━━━━━━━━━━━━━━━━━━━━━━━━━\u001b[0m \u001b[32m70.3/70.3 kB\u001b[0m \u001b[31m2.8 MB/s\u001b[0m eta \u001b[36m0:00:00\u001b[0m\n",
      "\u001b[?25hRequirement already satisfied: aiohttp in /opt/homebrew/lib/python3.10/site-packages (from openai) (3.8.4)\n",
      "Requirement already satisfied: requests>=2.20 in /opt/homebrew/lib/python3.10/site-packages (from openai) (2.28.2)\n",
      "Requirement already satisfied: tqdm in /opt/homebrew/lib/python3.10/site-packages (from openai) (4.65.0)\n",
      "Requirement already satisfied: idna<4,>=2.5 in /Users/alan/Library/Python/3.10/lib/python/site-packages (from requests>=2.20->openai) (3.4)\n",
      "Requirement already satisfied: urllib3<1.27,>=1.21.1 in /opt/homebrew/lib/python3.10/site-packages (from requests>=2.20->openai) (1.26.14)\n",
      "Requirement already satisfied: charset-normalizer<4,>=2 in /opt/homebrew/lib/python3.10/site-packages (from requests>=2.20->openai) (3.1.0)\n",
      "Requirement already satisfied: certifi>=2017.4.17 in /opt/homebrew/lib/python3.10/site-packages (from requests>=2.20->openai) (2022.12.7)\n",
      "Requirement already satisfied: async-timeout<5.0,>=4.0.0a3 in /opt/homebrew/lib/python3.10/site-packages (from aiohttp->openai) (4.0.2)\n",
      "Requirement already satisfied: frozenlist>=1.1.1 in /opt/homebrew/lib/python3.10/site-packages (from aiohttp->openai) (1.3.3)\n",
      "Requirement already satisfied: attrs>=17.3.0 in /Users/alan/Library/Python/3.10/lib/python/site-packages (from aiohttp->openai) (22.2.0)\n",
      "Requirement already satisfied: yarl<2.0,>=1.0 in /opt/homebrew/lib/python3.10/site-packages (from aiohttp->openai) (1.8.2)\n",
      "Requirement already satisfied: multidict<7.0,>=4.5 in /opt/homebrew/lib/python3.10/site-packages (from aiohttp->openai) (6.0.4)\n",
      "Requirement already satisfied: aiosignal>=1.1.2 in /opt/homebrew/lib/python3.10/site-packages (from aiohttp->openai) (1.3.1)\n",
      "Installing collected packages: openai\n",
      "  Attempting uninstall: openai\n",
      "    Found existing installation: openai 0.27.1\n",
      "    Uninstalling openai-0.27.1:\n",
      "      Successfully uninstalled openai-0.27.1\n",
      "Successfully installed openai-0.27.4\n",
      "\n",
      "\u001b[1m[\u001b[0m\u001b[34;49mnotice\u001b[0m\u001b[1;39;49m]\u001b[0m\u001b[39;49m A new release of pip available: \u001b[0m\u001b[31;49m22.2.2\u001b[0m\u001b[39;49m -> \u001b[0m\u001b[32;49m23.0.1\u001b[0m\n",
      "\u001b[1m[\u001b[0m\u001b[34;49mnotice\u001b[0m\u001b[1;39;49m]\u001b[0m\u001b[39;49m To update, run: \u001b[0m\u001b[32;49mpython3.10 -m pip install --upgrade pip\u001b[0m\n"
     ]
    }
   ],
   "source": [
    "!python3 -m pip install --upgrade openai"
   ]
  },
  {
   "cell_type": "code",
   "execution_count": 2,
   "metadata": {},
   "outputs": [],
   "source": [
    "import os\n",
    "import openai\n",
    "import constants\n",
    "openai.api_key = constants.GPT_API_KEY"
   ]
  },
  {
   "cell_type": "code",
   "execution_count": 3,
   "metadata": {},
   "outputs": [],
   "source": [
    "dataset_folder = './dataset'"
   ]
  },
  {
   "cell_type": "code",
   "execution_count": 4,
   "metadata": {},
   "outputs": [],
   "source": [
    "def get_responses(song_name, genre):\n",
    "    prompt = f'The string on the line below is the YouTube video title of a piano cover of a(n) {genre} song.\\\n",
    "                 Given the string, write a rich musical description of the original song, not the cover.\\\n",
    "                 This description should be roughly 200 words.\\\n",
    "                 \\n{song_name}'\n",
    "\n",
    "    response = openai.ChatCompletion.create(\n",
    "        model=\"gpt-3.5-turbo\",\n",
    "        messages=[\n",
    "                {\"role\": \"user\", \"content\": prompt}\n",
    "            ]\n",
    "    )\n",
    "    caption = response['choices'][0]['message']['content'].lstrip('\\n')\n",
    "\n",
    "    return caption"
   ]
  },
  {
   "cell_type": "code",
   "execution_count": 7,
   "metadata": {},
   "outputs": [],
   "source": [
    "def caption_all_genre_folders(overwrite=False):\n",
    "    genre_list = os.listdir(dataset_folder)\n",
    "    for genre in genre_list:\n",
    "        if genre.startswith('.') or not os.path.isdir(f'{dataset_folder}/{genre}'):\n",
    "            continue\n",
    "        \n",
    "        caption_genre_folder(genre, overwrite)\n",
    "\n",
    "\n",
    "def caption_genre_folder(genre, overwrite=False):\n",
    "    '''\n",
    "    Takes in the name of a genre folder containing .mp3 files and generates rich text captions\n",
    "    for each song in the genre folder in .txt format\n",
    "\n",
    "            Parameters:\n",
    "                    genre (str): the genre whose songs to caption\n",
    "                    overwrite (bool): specify whether captioning should overwrite existing \n",
    "                                      .txt files with the same file name\n",
    "    '''\n",
    "    genre_path = f'{dataset_folder}/{genre}'\n",
    "\n",
    "    song_list = os.listdir(genre_path)\n",
    "\n",
    "    for song_name in song_list:\n",
    "        if song_name.startswith('.'):\n",
    "            continue\n",
    "        caption_filename = song_name + '_caption.txt'\n",
    "        if not overwrite and os.path.isfile(f'{genre_path}/{song_name}/{caption_filename}'):\n",
    "            continue\n",
    "\n",
    "        song_path = f'{genre_path}/{song_name}'\n",
    "        if not os.path.exists(song_path):\n",
    "            os.mkdir(song_path)\n",
    "\n",
    "        caption = get_responses(song_name, genre)\n",
    "        assert(caption != None and len(caption) != 0)\n",
    "\n",
    "        with open(f'{song_path}/{caption_filename}', 'w') as f:\n",
    "            f.write(caption)"
   ]
  },
  {
   "cell_type": "code",
   "execution_count": 8,
   "metadata": {},
   "outputs": [],
   "source": [
    "caption_all_genre_folders()"
   ]
  }
 ],
 "metadata": {
  "kernelspec": {
   "display_name": "Python 3 (ipykernel)",
   "language": "python",
   "name": "python3"
  },
  "language_info": {
   "codemirror_mode": {
    "name": "ipython",
    "version": 3
   },
   "file_extension": ".py",
   "mimetype": "text/x-python",
   "name": "python",
   "nbconvert_exporter": "python",
   "pygments_lexer": "ipython3",
   "version": "3.10.8"
  }
 },
 "nbformat": 4,
 "nbformat_minor": 2
}
